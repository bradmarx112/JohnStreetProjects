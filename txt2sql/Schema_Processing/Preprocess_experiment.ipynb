{
 "cells": [
  {
   "cell_type": "code",
   "execution_count": 1,
   "id": "01544da1",
   "metadata": {},
   "outputs": [],
   "source": [
    "import json\n",
    "import numpy as np\n",
    "import os\n",
    "import re"
   ]
  },
  {
   "cell_type": "code",
   "execution_count": 2,
   "id": "377e74ff",
   "metadata": {},
   "outputs": [
    {
     "name": "stdout",
     "output_type": "stream",
     "text": [
      "C:\\Users\\14102\\python_projects\\JohnStreetProjects\n"
     ]
    }
   ],
   "source": [
    "cd ../.."
   ]
  },
  {
   "cell_type": "code",
   "execution_count": 11,
   "id": "37471615",
   "metadata": {},
   "outputs": [],
   "source": [
    "def find_ngrams(word, n) -> list:\n",
    "    return list(zip(*[word[i:] for i in range(n)]))"
   ]
  },
  {
   "cell_type": "markdown",
   "id": "67d2d9cc",
   "metadata": {},
   "source": [
    "## Testing out train json parsing\n",
    "\n",
    "Wont work without the entire spider dataset downloaded."
   ]
  },
  {
   "cell_type": "code",
   "execution_count": null,
   "id": "9b3e40f9",
   "metadata": {},
   "outputs": [],
   "source": [
    "train_file_path = 'spider/spider/train_spider.json'\n",
    "with open(train_file_path) as f:\n",
    "    data_dict = json.load(f)"
   ]
  },
  {
   "cell_type": "code",
   "execution_count": null,
   "id": "299a1d3e",
   "metadata": {},
   "outputs": [],
   "source": [
    "racetrack_qrys = [dct for dct in data_dict if dct['db_id'] == 'race_track']"
   ]
  },
  {
   "cell_type": "code",
   "execution_count": null,
   "id": "14472983",
   "metadata": {},
   "outputs": [],
   "source": [
    "with open('racetrack_queries.json', 'w') as f:\n",
    "    json.dump(racetrack_qrys, f)"
   ]
  },
  {
   "cell_type": "markdown",
   "id": "a02b950a",
   "metadata": {},
   "source": [
    "## Testing out schema manipulation"
   ]
  },
  {
   "cell_type": "code",
   "execution_count": 3,
   "id": "7f0735a1",
   "metadata": {},
   "outputs": [
    {
     "data": {
      "text/plain": [
       "['.ipynb_checkpoints',\n",
       " 'Preprocess_experiment.ipynb',\n",
       " 'racetrack_queries.json',\n",
       " 'race_track']"
      ]
     },
     "execution_count": 3,
     "metadata": {},
     "output_type": "execute_result"
    }
   ],
   "source": [
    "db_dir = 'txt2sql/Schema_Processing'\n",
    "os.listdir(db_dir)"
   ]
  },
  {
   "cell_type": "code",
   "execution_count": 4,
   "id": "e194908b",
   "metadata": {},
   "outputs": [],
   "source": [
    "with open(db_dir+'/race_track/racetrack_schema.sql') as f:\n",
    "    data = f.read()"
   ]
  },
  {
   "cell_type": "code",
   "execution_count": 5,
   "id": "f9c1f89c",
   "metadata": {},
   "outputs": [],
   "source": [
    "data = data.replace('\\n', '').replace(' ', '').replace('`', \"\\\"\").upper().split(';')"
   ]
  },
  {
   "cell_type": "code",
   "execution_count": 6,
   "id": "d747dfd3",
   "metadata": {},
   "outputs": [
    {
     "data": {
      "text/plain": [
       "['PRAGMAFOREIGN_KEYS=ON',\n",
       " 'CREATETABLE\"RACE\"(\"RACE_ID\"INT,\"NAME\"TEXT,\"CLASS\"TEXT,\"DATE\"TEXT,\"TRACK_ID\"TEXT,PRIMARYKEY(\"RACE_ID\"),FOREIGNKEY(\"TRACK_ID\")REFERENCES\"TRACK\"(\"TRACK_ID\"))',\n",
       " 'CREATETABLE\"TRACK\"(\"TRACK_ID\"INT,\"NAME\"TEXT,\"LOCATION\"TEXT,\"SEATING\"REAL,\"YEAR_OPENED\"REAL,PRIMARYKEY(\"TRACK_ID\"))',\n",
       " 'INSERTINTO\"TRACK\"VALUES(1,\"AUTOCLUBSPEEDWAY\",\"FONTANA,CA\",\"92000\",\"1997\")',\n",
       " 'INSERTINTO\"TRACK\"VALUES(2,\"CHICAGOLANDSPEEDWAY\",\"JOLIET,IL\",\"75000\",\"2001\")',\n",
       " 'INSERTINTO\"TRACK\"VALUES(3,\"DARLINGTONRACEWAY\",\"DARLINGTON,SC\",\"63000\",\"1950\")',\n",
       " 'INSERTINTO\"TRACK\"VALUES(4,\"DAYTONAINTERNATIONALSPEEDWAY\",\"DAYTONABEACH,FL\",\"168000\",\"1959\")',\n",
       " 'INSERTINTO\"TRACK\"VALUES(5,\"HOMESTEAD-MIAMISPEEDWAY\",\"HOMESTEAD,FL\",\"65000\",\"1995\")',\n",
       " 'INSERTINTO\"TRACK\"VALUES(6,\"KANSASSPEEDWAY\",\"KANSASCITY,KS\",\"81687\",\"2001\")',\n",
       " 'INSERTINTO\"TRACK\"VALUES(7,\"MARTINSVILLESPEEDWAY\",\"RIDGEWAY,VA\",\"65000\",\"1947\")',\n",
       " 'INSERTINTO\"TRACK\"VALUES(8,\"MICHIGANINTERNATIONALSPEEDWAY\",\"BROOKLYN,MI\",\"137243\",\"1968\")',\n",
       " 'INSERTINTO\"TRACK\"VALUES(9,\"PHOENIXINTERNATIONALRACEWAY\",\"AVONDALE,AZ\",\"76812\",\"1964\")',\n",
       " 'INSERTINTO\"RACE\"VALUES(1,\"ROLEX24ATDAYTONA\",\"DP/GT\",\"JANUARY26JANUARY27\",1)',\n",
       " 'INSERTINTO\"RACE\"VALUES(2,\"GAINSCOGRANDPRIXOFMIAMI\",\"DP/GT\",\"MARCH29\",2)',\n",
       " 'INSERTINTO\"RACE\"VALUES(3,\"MEXICOCITY250\",\"DP/GT\",\"APRIL19\",2)',\n",
       " 'INSERTINTO\"RACE\"VALUES(4,\"BOSCHENGINEERING250ATVIR\",\"GT\",\"APRIL27\",4)',\n",
       " 'INSERTINTO\"RACE\"VALUES(5,\"RUMBUM.COM250\",\"DP/GT\",\"MAY17\",5)',\n",
       " 'INSERTINTO\"RACE\"VALUES(6,\"LIMEROCKGTCLASSIC250\",\"GT\",\"MAY26\",6)',\n",
       " 'INSERTINTO\"RACE\"VALUES(7,\"SAHLEN\\'SSIXHOURSOFTHEGLEN\",\"DP/GT\",\"JUNE7\",7)',\n",
       " '']"
      ]
     },
     "execution_count": 6,
     "metadata": {},
     "output_type": "execute_result"
    }
   ],
   "source": [
    "data"
   ]
  },
  {
   "cell_type": "code",
   "execution_count": 7,
   "id": "2a3a99d5",
   "metadata": {
    "scrolled": true
   },
   "outputs": [
    {
     "data": {
      "text/plain": [
       "{'RACE': {'RACE_ID': {'fks': [], 'ispk': True},\n",
       "  'NAME': {'fks': [], 'ispk': False},\n",
       "  'CLASS': {'fks': [], 'ispk': False},\n",
       "  'DATE': {'fks': [], 'ispk': False},\n",
       "  'TRACK_ID': {'fks': [('TRACK', 'TRACK_ID')], 'ispk': False}},\n",
       " 'TRACK': {'TRACK_ID': {'fks': [], 'ispk': True},\n",
       "  'NAME': {'fks': [], 'ispk': False},\n",
       "  'LOCATION': {'fks': [], 'ispk': False},\n",
       "  'SEATING': {'fks': [], 'ispk': False},\n",
       "  'YEAR_OPENED': {'fks': [], 'ispk': False}}}"
      ]
     },
     "execution_count": 7,
     "metadata": {},
     "output_type": "execute_result"
    }
   ],
   "source": [
    "# Define regular expressions patterns\n",
    "table_pattern = r'CREATETABLE\"(.*?)\"'\n",
    "column_pattern = r'\"(.+?)\"([\\w\\(\\)]+)[,$]'\n",
    "primary_key_pattern = r'PRIMARYKEY\\(\"(.*?)\"\\)'\n",
    "foreign_key_pattern = r'FOREIGNKEY\\(\"(.*?)\"\\)REFERENCES\"(.*?)\"\\(\"(.*?)\"\\)'\n",
    "schema = {}\n",
    "\n",
    "elem_qty = 0\n",
    "for table_def in data:\n",
    "    if re.search(r\"^CREATETABLE\", table_def):\n",
    "        elem_qty += 1\n",
    "        # Extract table name\n",
    "        table_name = re.search(table_pattern, table_def).group(1)\n",
    "        table_def = re.sub(table_pattern, '', table_def)\n",
    "        # Extract columns\n",
    "        columns = re.findall(column_pattern, table_def)\n",
    "        elem_qty += len(columns)\n",
    "        # Extract primary key\n",
    "        primary_keys = re.findall(r'PRIMARYKEY\\((.*?)\\)', table_def)\n",
    "        primary_keys = re.findall(r'\"(\\w+)\"', primary_keys[0]) if primary_keys else []\n",
    "\n",
    "#         primary_key = re.search(primary_key_pattern, table_def)\n",
    "#         primary_key_column = primary_key.group(1) if primary_key else None\n",
    "\n",
    "        # Extract foreign keys\n",
    "        foreign_keys = re.findall(foreign_key_pattern, table_def)\n",
    "        \n",
    "        col_rels = {}\n",
    "        for col in columns:\n",
    "            fks = [fk[1:] for fk in foreign_keys if col[0] == fk[0]]\n",
    "            col_rels[col[0]] = {'fks': fks, 'ispk': col[0] in primary_keys}\n",
    "        schema[table_name] = col_rels\n",
    "        # Display extracted data\n",
    "#         print(\"Table Name:\", table_name)\n",
    "#         print(\"Columns:\", columns)\n",
    "#         print(\"Primary Key:\", primary_key_column)\n",
    "#         print(\"Foreign Keys:\", foreign_keys)\n",
    "schema"
   ]
  },
  {
   "cell_type": "code",
   "execution_count": 8,
   "id": "a4a5a4f3",
   "metadata": {},
   "outputs": [],
   "source": [
    "# rel_matrix = np.zeros((elem_qty, elem_qty))\n",
    "# cur_idx = 0\n",
    "# for table_name, col_dict in schema.items():\n",
    "    \n",
    "#     for col_id, (col_name, col_rels) in enumerate(col_dict.items()):\n",
    "#         print(col_id)"
   ]
  },
  {
   "cell_type": "code",
   "execution_count": 53,
   "id": "d753fb97",
   "metadata": {},
   "outputs": [],
   "source": [
    "qry = 'show me race on all track'.upper()\n",
    "qry_ngrams = set()\n",
    "for ngram_size in range(5):\n",
    "    qry_ngrams.update(set(find_ngrams(qry.split(' '), ngram_size + 1)))\n",
    "qry_ngram_list = list(qry_ngrams)"
   ]
  },
  {
   "cell_type": "code",
   "execution_count": 54,
   "id": "aba7e76d",
   "metadata": {},
   "outputs": [
    {
     "data": {
      "text/plain": [
       "{'RACE': 0,\n",
       " ('RACE', 'RACE_ID'): 1,\n",
       " ('RACE', 'NAME'): 2,\n",
       " ('RACE', 'CLASS'): 3,\n",
       " ('RACE', 'DATE'): 4,\n",
       " ('RACE', 'TRACK_ID'): 5,\n",
       " 'TRACK': 6,\n",
       " ('TRACK', 'TRACK_ID'): 7,\n",
       " ('TRACK', 'NAME'): 8,\n",
       " ('TRACK', 'LOCATION'): 9,\n",
       " ('TRACK', 'SEATING'): 10,\n",
       " ('TRACK', 'YEAR_OPENED'): 11,\n",
       " ('RACES', 'ON'): 12,\n",
       " ('SHOW', 'ME'): 13,\n",
       " ('ME', 'RACES'): 14,\n",
       " ('SHOW',): 15,\n",
       " ('SHOW', 'ME', 'RACES'): 16,\n",
       " ('ALL',): 17,\n",
       " ('ON', 'ALL'): 18,\n",
       " ('RACES', 'ON', 'ALL'): 19,\n",
       " ('SHOW', 'ME', 'RACES', 'ON', 'ALL'): 20,\n",
       " ('RACES',): 21,\n",
       " ('ME', 'RACES', 'ON'): 22,\n",
       " ('TRACKS',): 23,\n",
       " ('ME', 'RACES', 'ON', 'ALL', 'TRACKS'): 24,\n",
       " ('RACES', 'ON', 'ALL', 'TRACKS'): 25,\n",
       " ('ME', 'RACES', 'ON', 'ALL'): 26,\n",
       " ('ON',): 27,\n",
       " ('ME',): 28,\n",
       " ('ALL', 'TRACKS'): 29,\n",
       " ('SHOW', 'ME', 'RACES', 'ON'): 30,\n",
       " ('ON', 'ALL', 'TRACKS'): 31}"
      ]
     },
     "execution_count": 54,
     "metadata": {},
     "output_type": "execute_result"
    }
   ],
   "source": [
    "entity_to_index"
   ]
  },
  {
   "cell_type": "code",
   "execution_count": 56,
   "id": "f01f58ec",
   "metadata": {},
   "outputs": [
    {
     "data": {
      "text/plain": [
       "array([[0, 'HasPK', 'TblOfCol', ..., 'Tbl_qstn_partial_match',\n",
       "        'Tbl_qstn_partial_match', 'tbl_qstn_no_match'],\n",
       "       ['PKOf', 0, 0, ..., 'Col_qstn_no_match', 'Col_qstn_no_match',\n",
       "        'Col_qstn_no_match'],\n",
       "       ['ColInTbl', 0, 0, ..., 'Col_qstn_no_match', 'Col_qstn_no_match',\n",
       "        'Col_qstn_no_match'],\n",
       "       ...,\n",
       "       ['Qstn_tbl_partial_match', 'Qstn_col_no_match',\n",
       "        'Qstn_col_no_match', ..., 0, 0, 0],\n",
       "       ['Qstn_tbl_partial_match', 'Qstn_col_no_match',\n",
       "        'Qstn_col_no_match', ..., 0, 0, 0],\n",
       "       ['Qstn_tbl_no_match', 'Qstn_col_no_match', 'Qstn_col_no_match',\n",
       "        ..., 0, 0, 0]], dtype=object)"
      ]
     },
     "execution_count": 56,
     "metadata": {},
     "output_type": "execute_result"
    }
   ],
   "source": [
    "import numpy as np\n",
    "\n",
    "# Sample schema data\n",
    "schema_data = schema\n",
    "\n",
    "# Get all table names\n",
    "table_names = list(schema_data.keys())\n",
    "\n",
    "# Create a matrix to represent relationships between columns and tables\n",
    "num_entities = len(table_names) + sum(len(schema_data[table]) for table in table_names) + len(qry_ngrams)\n",
    "relationship_matrix = np.zeros((num_entities, num_entities), dtype=object)\n",
    "\n",
    "# Map indices to column names, table names, and their types (column or table)\n",
    "entity_to_index = {}\n",
    "index = 0\n",
    "\n",
    "# Map column indices to column names, table names, and their types\n",
    "for table in table_names:\n",
    "    entity_to_index[table] = index\n",
    "    index += 1\n",
    "    for column in schema_data[table]:\n",
    "        entity_to_index[(table, column)] = index\n",
    "        index += 1\n",
    "\n",
    "# Map ngrams parsed from NLQ to matrix indices\n",
    "for ngram in qry_ngram_list:\n",
    "    entity_to_index[ngram] = index\n",
    "    index += 1\n",
    "\n",
    "\n",
    "# Update matrix based on relationships (Primary keys, Foreign keys, Column membership)\n",
    "for table in table_names:\n",
    "    table_index = entity_to_index[table]\n",
    "    for column, details in schema_data[table].items():\n",
    "        column_index = entity_to_index[(table, column)]\n",
    "        if details['ispk']:\n",
    "            # Mark column as primary key\n",
    "            relationship_matrix[column_index, table_index] = 'PKOf'\n",
    "            relationship_matrix[table_index, column_index] = 'HasPK'\n",
    "        else:\n",
    "            # Mark column as a member of a table\n",
    "#             relationship_matrix[column_index, column_index] = 'Member'\n",
    "            # Mark relationship between column and table\n",
    "            relationship_matrix[column_index, table_index] = 'ColInTbl'\n",
    "            relationship_matrix[table_index, column_index] = 'TblOfCol'\n",
    "        for fk_table, fk_column in details['fks']:\n",
    "            # Mark column as a foreign key pointing to another column\n",
    "            fk_column_index = entity_to_index[(fk_table, fk_column)]\n",
    "            relationship_matrix[column_index, fk_column_index] = 'ColFKDepOn'\n",
    "            relationship_matrix[column_index, entity_to_index[fk_table]] = 'TblFKDepIn'\n",
    "            relationship_matrix[fk_column_index, column_index] = 'ColFKDepFrom'\n",
    "            relationship_matrix[entity_to_index[fk_table], column_index] = 'TblFKDepFrom'\n",
    "        \n",
    "        for qry_ngram in qry_ngram_list:\n",
    "            qn_id = entity_to_index[qry_ngram]\n",
    "            if all([seq == column for seq in qry_ngram]):\n",
    "                relationship_matrix[column_index, qn_id] = 'Col_qstn_full_match'\n",
    "                relationship_matrix[qn_id, column_index] = 'Qstn_col_full_match'\n",
    "                \n",
    "            elif any([seq == column for seq in qry_ngram]):\n",
    "                relationship_matrix[column_index, qn_id] = 'Col_qstn_partial_match'\n",
    "                relationship_matrix[qn_id, column_index] = 'Qstn_col_partial_match'\n",
    "            else:\n",
    "                relationship_matrix[column_index, qn_id] = 'Col_qstn_no_match'\n",
    "                relationship_matrix[qn_id, column_index] = 'Qstn_col_no_match'\n",
    "                \n",
    "    for qry_ngram in qry_ngram_list:\n",
    "        qn_id = entity_to_index[qry_ngram]\n",
    "        if all([seq == table for seq in qry_ngram]):\n",
    "            relationship_matrix[table_index, qn_id] = 'Tbl_qstn_full_match'\n",
    "            relationship_matrix[qn_id, table_index] = 'Qstn_tbl_full_match'\n",
    "            \n",
    "        elif any([seq == table for seq in qry_ngram]):\n",
    "            relationship_matrix[table_index, qn_id] = 'Tbl_qstn_partial_match'\n",
    "            relationship_matrix[qn_id, table_index] = 'Qstn_tbl_partial_match'\n",
    "        else:\n",
    "            relationship_matrix[table_index, qn_id] = 'tbl_qstn_no_match'\n",
    "            relationship_matrix[qn_id, table_index] = 'Qstn_tbl_no_match'\n",
    "\n",
    "# Display the relationship matrix\n",
    "# for i in range(num_entities):\n",
    "#     for j in range(num_entities):\n",
    "#         print(relationship_matrix[i, j], end=\"\\t\")\n",
    "#     print()\n",
    "relationship_matrix"
   ]
  },
  {
   "cell_type": "code",
   "execution_count": null,
   "id": "515ee1f2",
   "metadata": {},
   "outputs": [],
   "source": []
  }
 ],
 "metadata": {
  "kernelspec": {
   "display_name": "Python 3 (ipykernel)",
   "language": "python",
   "name": "python3"
  },
  "language_info": {
   "codemirror_mode": {
    "name": "ipython",
    "version": 3
   },
   "file_extension": ".py",
   "mimetype": "text/x-python",
   "name": "python",
   "nbconvert_exporter": "python",
   "pygments_lexer": "ipython3",
   "version": "3.10.5"
  }
 },
 "nbformat": 4,
 "nbformat_minor": 5
}
